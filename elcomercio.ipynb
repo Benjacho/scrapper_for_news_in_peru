{
 "cells": [
  {
   "cell_type": "code",
   "execution_count": 18,
   "metadata": {
    "tags": []
   },
   "outputs": [
    {
     "output_type": "stream",
     "name": "stdout",
     "text": "[]\n"
    }
   ],
   "source": [
    "import requests\n",
    "import bs4\n",
    "\n",
    "url = 'https://www.elcomercio.pe'\n",
    "response = requests.get(url)\n",
    "soup =  bs4.BeautifulSoup(response.text, 'html.parser')\n",
    "articles = soup.select('.featured-story')\n",
    "titles_with_links_and_text = []\n",
    "for article in articles:\n",
    "    title = article.h2.a.string\n",
    "    link = article.h2.a['href']\n",
    "    response_article = requests.get(url + link)\n",
    "    soup_article = bs4.BeautifulSoup(response_article.text, 'html.parser')\n",
    "    content = soup_article.select('.story-contents__content p')\n",
    "    merged_content = '';\n",
    "    for text in content: \n",
    "        merged_content += text.text\n",
    "    titles_with_links_and_text.append({'title': title,'link': link,'content': merged_content})\n",
    "\n",
    "\n",
    "print(titles_with_links_and_text)\n"
   ]
  },
  {
   "cell_type": "code",
   "execution_count": null,
   "metadata": {},
   "outputs": [],
   "source": []
  }
 ],
 "metadata": {
  "language_info": {
   "codemirror_mode": {
    "name": "ipython",
    "version": 3
   },
   "file_extension": ".py",
   "mimetype": "text/x-python",
   "name": "python",
   "nbconvert_exporter": "python",
   "pygments_lexer": "ipython3",
   "version": "3.7.6-final"
  },
  "orig_nbformat": 2,
  "kernelspec": {
   "name": "python3",
   "display_name": "Python 3"
  }
 },
 "nbformat": 4,
 "nbformat_minor": 2
}
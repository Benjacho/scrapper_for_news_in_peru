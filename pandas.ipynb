{
 "cells": [
  {
   "cell_type": "code",
   "execution_count": 8,
   "metadata": {},
   "outputs": [
    {
     "output_type": "execute_result",
     "data": {
      "text/plain": "0    100\n1    200\n2    300\ndtype: int64"
     },
     "metadata": {},
     "execution_count": 8
    }
   ],
   "source": [
    "import pandas as pd\n",
    "\n",
    "series_test = pd.Series([100, 200, 300])\n",
    "\n",
    "series_test"
   ]
  },
  {
   "cell_type": "code",
   "execution_count": 2,
   "metadata": {},
   "outputs": [
    {
     "output_type": "execute_result",
     "data": {
      "text/plain": "1999    48\n2000    65\n2001    89\ndtype: int64"
     },
     "metadata": {},
     "execution_count": 2
    }
   ],
   "source": [
    "series_test2 = pd.Series({1999: 48, 2000: 65, 2001: 89})\n",
    "series_test2 \n",
    "#Siempre la mejor forma de otorgarle significado es agregandole labels"
   ]
  },
  {
   "cell_type": "code",
   "execution_count": 3,
   "metadata": {},
   "outputs": [
    {
     "output_type": "execute_result",
     "data": {
      "text/plain": "   1999  2000  3000\n0    10    20    30\n1    10    20    30\n2    10    20    30",
      "text/html": "<div>\n<style scoped>\n    .dataframe tbody tr th:only-of-type {\n        vertical-align: middle;\n    }\n\n    .dataframe tbody tr th {\n        vertical-align: top;\n    }\n\n    .dataframe thead th {\n        text-align: right;\n    }\n</style>\n<table border=\"1\" class=\"dataframe\">\n  <thead>\n    <tr style=\"text-align: right;\">\n      <th></th>\n      <th>1999</th>\n      <th>2000</th>\n      <th>3000</th>\n    </tr>\n  </thead>\n  <tbody>\n    <tr>\n      <th>0</th>\n      <td>10</td>\n      <td>20</td>\n      <td>30</td>\n    </tr>\n    <tr>\n      <th>1</th>\n      <td>10</td>\n      <td>20</td>\n      <td>30</td>\n    </tr>\n    <tr>\n      <th>2</th>\n      <td>10</td>\n      <td>20</td>\n      <td>30</td>\n    </tr>\n  </tbody>\n</table>\n</div>"
     },
     "metadata": {},
     "execution_count": 3
    }
   ],
   "source": [
    "frame_test = pd.DataFrame({\n",
    "    1999: [10, 10, 10],\n",
    "    2000: [20, 20, 20],\n",
    "    3000: [30, 30, 30]\n",
    "})\n",
    "\n",
    "frame_test"
   ]
  },
  {
   "cell_type": "code",
   "execution_count": 4,
   "metadata": {},
   "outputs": [
    {
     "output_type": "execute_result",
     "data": {
      "text/plain": "   1999  2000  3000\n0    10    10    10\n1    20    20    20\n2    30    30    30",
      "text/html": "<div>\n<style scoped>\n    .dataframe tbody tr th:only-of-type {\n        vertical-align: middle;\n    }\n\n    .dataframe tbody tr th {\n        vertical-align: top;\n    }\n\n    .dataframe thead th {\n        text-align: right;\n    }\n</style>\n<table border=\"1\" class=\"dataframe\">\n  <thead>\n    <tr style=\"text-align: right;\">\n      <th></th>\n      <th>1999</th>\n      <th>2000</th>\n      <th>3000</th>\n    </tr>\n  </thead>\n  <tbody>\n    <tr>\n      <th>0</th>\n      <td>10</td>\n      <td>10</td>\n      <td>10</td>\n    </tr>\n    <tr>\n      <th>1</th>\n      <td>20</td>\n      <td>20</td>\n      <td>20</td>\n    </tr>\n    <tr>\n      <th>2</th>\n      <td>30</td>\n      <td>30</td>\n      <td>30</td>\n    </tr>\n  </tbody>\n</table>\n</div>"
     },
     "metadata": {},
     "execution_count": 4
    }
   ],
   "source": [
    "frame_test2 = pd.DataFrame([\n",
    "   [10, 10, 10],\n",
    "   [20, 20, 20],\n",
    "    [30, 30, 30]\n",
    "], columns=[1999, 2000, 3000])\n",
    "\n",
    "frame_test2\n"
   ]
  },
  {
   "cell_type": "code",
   "execution_count": 5,
   "metadata": {},
   "outputs": [
    {
     "output_type": "execute_result",
     "data": {
      "text/plain": "pandas.core.frame.DataFrame"
     },
     "metadata": {},
     "execution_count": 5
    }
   ],
   "source": [
    "el_comercio = pd.read_csv('elcomercio_2020_06_29_articles.csv')\n",
    "\n",
    "type(el_comercio)"
   ]
  },
  {
   "cell_type": "code",
   "execution_count": 13,
   "metadata": {},
   "outputs": [
    {
     "output_type": "execute_result",
     "data": {
      "text/plain": "                                                 body  \\\n0   La cantante Leslie Shaw sigue ratificando que ...   \n1       Dos incidentes durante la niñez marcaron s...   \n2   El viernes 26 de junio, fotógrafos y un equipo...   \n3   Dos semanas antes del inicio de la cuarentena,...   \n4   Hernán Condori, el popular ‘Cachuca’ de Los Mo...   \n..                                                ...   \n27  Pasaron 44 años para que España vuelva a conse...   \n28  Pedro David Pérez Miranda lleva más de dos déc...   \n29  “El Mundial del que nunca nos fuimos”. Así se ...   \n30  Caracas. [AP]. El colapso económico de Venezue...   \n31  El preocupante repunte de los casos de coronav...   \n\n                                                title  \\\n0    “Estoy Soltera” de Leslie Shaw bate récord en...   \n1    Tulio Loza recuerda su historia: “El Perú es ...   \n2    Regresó el caos: 24 horas al volante ponen a ...   \n3    Reforma política: Nuevos partidos en manos de...   \n4    ‘Cachuca’ de Los Mojarras lucha contra el COV...   \n..                                                ...   \n27   A 12 años del título: El once español que cam...   \n28   ¿Por qué ‘Peter Ferrari’ salió libre después ...   \n29   Cómo se verían los cracks peruanos que clasif...   \n30   Venezolanos toman medidas desesperadas ante f...   \n31   “Los latinos representan el 34% de los contag...   \n\n                                                  url newspaper_uid  \n0   https://elcomercio.pe/luces/musica/leslie-shaw...   El Comercio  \n1   https://elcomercio.pe/tvmas/television/tulio-l...   El Comercio  \n2   https://elcomercio.pe/lima/transporte/notepase...   El Comercio  \n3   https://elcomercio.pe/politica/elecciones/nuev...   El Comercio  \n4   https://elcomercio.pe/tvmas/farandula/cachuca-...   El Comercio  \n..                                                ...           ...  \n27  https://elcomercio.pe/deporte-total/futbol-mun...   El Comercio  \n28  https://elcomercio.pe/lima/judiciales/peter-fe...   El Comercio  \n29  https://elcomercio.pe/somos/historias/seleccio...   El Comercio  \n30  https://elcomercio.pe/mundo/venezuela/coronavi...   El Comercio  \n31  https://elcomercio.pe/mundo/eeuu/coronavirus-e...   El Comercio  \n\n[32 rows x 4 columns]",
      "text/html": "<div>\n<style scoped>\n    .dataframe tbody tr th:only-of-type {\n        vertical-align: middle;\n    }\n\n    .dataframe tbody tr th {\n        vertical-align: top;\n    }\n\n    .dataframe thead th {\n        text-align: right;\n    }\n</style>\n<table border=\"1\" class=\"dataframe\">\n  <thead>\n    <tr style=\"text-align: right;\">\n      <th></th>\n      <th>body</th>\n      <th>title</th>\n      <th>url</th>\n      <th>newspaper_uid</th>\n    </tr>\n  </thead>\n  <tbody>\n    <tr>\n      <th>0</th>\n      <td>La cantante Leslie Shaw sigue ratificando que ...</td>\n      <td>“Estoy Soltera” de Leslie Shaw bate récord en...</td>\n      <td>https://elcomercio.pe/luces/musica/leslie-shaw...</td>\n      <td>El Comercio</td>\n    </tr>\n    <tr>\n      <th>1</th>\n      <td>Dos incidentes durante la niñez marcaron s...</td>\n      <td>Tulio Loza recuerda su historia: “El Perú es ...</td>\n      <td>https://elcomercio.pe/tvmas/television/tulio-l...</td>\n      <td>El Comercio</td>\n    </tr>\n    <tr>\n      <th>2</th>\n      <td>El viernes 26 de junio, fotógrafos y un equipo...</td>\n      <td>Regresó el caos: 24 horas al volante ponen a ...</td>\n      <td>https://elcomercio.pe/lima/transporte/notepase...</td>\n      <td>El Comercio</td>\n    </tr>\n    <tr>\n      <th>3</th>\n      <td>Dos semanas antes del inicio de la cuarentena,...</td>\n      <td>Reforma política: Nuevos partidos en manos de...</td>\n      <td>https://elcomercio.pe/politica/elecciones/nuev...</td>\n      <td>El Comercio</td>\n    </tr>\n    <tr>\n      <th>4</th>\n      <td>Hernán Condori, el popular ‘Cachuca’ de Los Mo...</td>\n      <td>‘Cachuca’ de Los Mojarras lucha contra el COV...</td>\n      <td>https://elcomercio.pe/tvmas/farandula/cachuca-...</td>\n      <td>El Comercio</td>\n    </tr>\n    <tr>\n      <th>...</th>\n      <td>...</td>\n      <td>...</td>\n      <td>...</td>\n      <td>...</td>\n    </tr>\n    <tr>\n      <th>27</th>\n      <td>Pasaron 44 años para que España vuelva a conse...</td>\n      <td>A 12 años del título: El once español que cam...</td>\n      <td>https://elcomercio.pe/deporte-total/futbol-mun...</td>\n      <td>El Comercio</td>\n    </tr>\n    <tr>\n      <th>28</th>\n      <td>Pedro David Pérez Miranda lleva más de dos déc...</td>\n      <td>¿Por qué ‘Peter Ferrari’ salió libre después ...</td>\n      <td>https://elcomercio.pe/lima/judiciales/peter-fe...</td>\n      <td>El Comercio</td>\n    </tr>\n    <tr>\n      <th>29</th>\n      <td>“El Mundial del que nunca nos fuimos”. Así se ...</td>\n      <td>Cómo se verían los cracks peruanos que clasif...</td>\n      <td>https://elcomercio.pe/somos/historias/seleccio...</td>\n      <td>El Comercio</td>\n    </tr>\n    <tr>\n      <th>30</th>\n      <td>Caracas. [AP]. El colapso económico de Venezue...</td>\n      <td>Venezolanos toman medidas desesperadas ante f...</td>\n      <td>https://elcomercio.pe/mundo/venezuela/coronavi...</td>\n      <td>El Comercio</td>\n    </tr>\n    <tr>\n      <th>31</th>\n      <td>El preocupante repunte de los casos de coronav...</td>\n      <td>“Los latinos representan el 34% de los contag...</td>\n      <td>https://elcomercio.pe/mundo/eeuu/coronavirus-e...</td>\n      <td>El Comercio</td>\n    </tr>\n  </tbody>\n</table>\n<p>32 rows × 4 columns</p>\n</div>"
     },
     "metadata": {},
     "execution_count": 13
    }
   ],
   "source": [
    "#Add newspaper_uid to dataframe\n",
    "pd.options.display.max_rows = 10\n",
    "el_comercio['newspaper_uid'] = 'El Comercio'\n",
    "el_comercio"
   ]
  },
  {
   "cell_type": "code",
   "execution_count": 14,
   "metadata": {},
   "outputs": [
    {
     "output_type": "execute_result",
     "data": {
      "text/plain": "                                                 body  \\\n0   La cantante Leslie Shaw sigue ratificando que ...   \n1       Dos incidentes durante la niñez marcaron s...   \n2   El viernes 26 de junio, fotógrafos y un equipo...   \n3   Dos semanas antes del inicio de la cuarentena,...   \n4   Hernán Condori, el popular ‘Cachuca’ de Los Mo...   \n..                                                ...   \n27  Pasaron 44 años para que España vuelva a conse...   \n28  Pedro David Pérez Miranda lleva más de dos déc...   \n29  “El Mundial del que nunca nos fuimos”. Así se ...   \n30  Caracas. [AP]. El colapso económico de Venezue...   \n31  El preocupante repunte de los casos de coronav...   \n\n                                                title  \\\n0    “Estoy Soltera” de Leslie Shaw bate récord en...   \n1    Tulio Loza recuerda su historia: “El Perú es ...   \n2    Regresó el caos: 24 horas al volante ponen a ...   \n3    Reforma política: Nuevos partidos en manos de...   \n4    ‘Cachuca’ de Los Mojarras lucha contra el COV...   \n..                                                ...   \n27   A 12 años del título: El once español que cam...   \n28   ¿Por qué ‘Peter Ferrari’ salió libre después ...   \n29   Cómo se verían los cracks peruanos que clasif...   \n30   Venezolanos toman medidas desesperadas ante f...   \n31   “Los latinos representan el 34% de los contag...   \n\n                                                  url newspaper_uid  \\\n0   https://elcomercio.pe/luces/musica/leslie-shaw...   El Comercio   \n1   https://elcomercio.pe/tvmas/television/tulio-l...   El Comercio   \n2   https://elcomercio.pe/lima/transporte/notepase...   El Comercio   \n3   https://elcomercio.pe/politica/elecciones/nuev...   El Comercio   \n4   https://elcomercio.pe/tvmas/farandula/cachuca-...   El Comercio   \n..                                                ...           ...   \n27  https://elcomercio.pe/deporte-total/futbol-mun...   El Comercio   \n28  https://elcomercio.pe/lima/judiciales/peter-fe...   El Comercio   \n29  https://elcomercio.pe/somos/historias/seleccio...   El Comercio   \n30  https://elcomercio.pe/mundo/venezuela/coronavi...   El Comercio   \n31  https://elcomercio.pe/mundo/eeuu/coronavirus-e...   El Comercio   \n\n             host  \n0   elcomercio.pe  \n1   elcomercio.pe  \n2   elcomercio.pe  \n3   elcomercio.pe  \n4   elcomercio.pe  \n..            ...  \n27  elcomercio.pe  \n28  elcomercio.pe  \n29  elcomercio.pe  \n30  elcomercio.pe  \n31  elcomercio.pe  \n\n[32 rows x 5 columns]",
      "text/html": "<div>\n<style scoped>\n    .dataframe tbody tr th:only-of-type {\n        vertical-align: middle;\n    }\n\n    .dataframe tbody tr th {\n        vertical-align: top;\n    }\n\n    .dataframe thead th {\n        text-align: right;\n    }\n</style>\n<table border=\"1\" class=\"dataframe\">\n  <thead>\n    <tr style=\"text-align: right;\">\n      <th></th>\n      <th>body</th>\n      <th>title</th>\n      <th>url</th>\n      <th>newspaper_uid</th>\n      <th>host</th>\n    </tr>\n  </thead>\n  <tbody>\n    <tr>\n      <th>0</th>\n      <td>La cantante Leslie Shaw sigue ratificando que ...</td>\n      <td>“Estoy Soltera” de Leslie Shaw bate récord en...</td>\n      <td>https://elcomercio.pe/luces/musica/leslie-shaw...</td>\n      <td>El Comercio</td>\n      <td>elcomercio.pe</td>\n    </tr>\n    <tr>\n      <th>1</th>\n      <td>Dos incidentes durante la niñez marcaron s...</td>\n      <td>Tulio Loza recuerda su historia: “El Perú es ...</td>\n      <td>https://elcomercio.pe/tvmas/television/tulio-l...</td>\n      <td>El Comercio</td>\n      <td>elcomercio.pe</td>\n    </tr>\n    <tr>\n      <th>2</th>\n      <td>El viernes 26 de junio, fotógrafos y un equipo...</td>\n      <td>Regresó el caos: 24 horas al volante ponen a ...</td>\n      <td>https://elcomercio.pe/lima/transporte/notepase...</td>\n      <td>El Comercio</td>\n      <td>elcomercio.pe</td>\n    </tr>\n    <tr>\n      <th>3</th>\n      <td>Dos semanas antes del inicio de la cuarentena,...</td>\n      <td>Reforma política: Nuevos partidos en manos de...</td>\n      <td>https://elcomercio.pe/politica/elecciones/nuev...</td>\n      <td>El Comercio</td>\n      <td>elcomercio.pe</td>\n    </tr>\n    <tr>\n      <th>4</th>\n      <td>Hernán Condori, el popular ‘Cachuca’ de Los Mo...</td>\n      <td>‘Cachuca’ de Los Mojarras lucha contra el COV...</td>\n      <td>https://elcomercio.pe/tvmas/farandula/cachuca-...</td>\n      <td>El Comercio</td>\n      <td>elcomercio.pe</td>\n    </tr>\n    <tr>\n      <th>...</th>\n      <td>...</td>\n      <td>...</td>\n      <td>...</td>\n      <td>...</td>\n      <td>...</td>\n    </tr>\n    <tr>\n      <th>27</th>\n      <td>Pasaron 44 años para que España vuelva a conse...</td>\n      <td>A 12 años del título: El once español que cam...</td>\n      <td>https://elcomercio.pe/deporte-total/futbol-mun...</td>\n      <td>El Comercio</td>\n      <td>elcomercio.pe</td>\n    </tr>\n    <tr>\n      <th>28</th>\n      <td>Pedro David Pérez Miranda lleva más de dos déc...</td>\n      <td>¿Por qué ‘Peter Ferrari’ salió libre después ...</td>\n      <td>https://elcomercio.pe/lima/judiciales/peter-fe...</td>\n      <td>El Comercio</td>\n      <td>elcomercio.pe</td>\n    </tr>\n    <tr>\n      <th>29</th>\n      <td>“El Mundial del que nunca nos fuimos”. Así se ...</td>\n      <td>Cómo se verían los cracks peruanos que clasif...</td>\n      <td>https://elcomercio.pe/somos/historias/seleccio...</td>\n      <td>El Comercio</td>\n      <td>elcomercio.pe</td>\n    </tr>\n    <tr>\n      <th>30</th>\n      <td>Caracas. [AP]. El colapso económico de Venezue...</td>\n      <td>Venezolanos toman medidas desesperadas ante f...</td>\n      <td>https://elcomercio.pe/mundo/venezuela/coronavi...</td>\n      <td>El Comercio</td>\n      <td>elcomercio.pe</td>\n    </tr>\n    <tr>\n      <th>31</th>\n      <td>El preocupante repunte de los casos de coronav...</td>\n      <td>“Los latinos representan el 34% de los contag...</td>\n      <td>https://elcomercio.pe/mundo/eeuu/coronavirus-e...</td>\n      <td>El Comercio</td>\n      <td>elcomercio.pe</td>\n    </tr>\n  </tbody>\n</table>\n<p>32 rows × 5 columns</p>\n</div>"
     },
     "metadata": {},
     "execution_count": 14
    }
   ],
   "source": [
    "# Obtaining host\n",
    "from urllib.parse import urlparse\n",
    "\n",
    "el_comercio['host'] = el_comercio['url'].apply(lambda url: urlparse(url).netloc)\n",
    "\n",
    "el_comercio"
   ]
  },
  {
   "cell_type": "code",
   "execution_count": 15,
   "metadata": {},
   "outputs": [
    {
     "output_type": "execute_result",
     "data": {
      "text/plain": "elcomercio.pe    32\nName: host, dtype: int64"
     },
     "metadata": {},
     "execution_count": 15
    }
   ],
   "source": [
    "el_comercio['host'].value_counts()"
   ]
  }
 ],
 "metadata": {
  "language_info": {
   "codemirror_mode": {
    "name": "ipython",
    "version": 3
   },
   "file_extension": ".py",
   "mimetype": "text/x-python",
   "name": "python",
   "nbconvert_exporter": "python",
   "pygments_lexer": "ipython3",
   "version": "3.8.3-final"
  },
  "orig_nbformat": 2,
  "kernelspec": {
   "name": "python38332bitenvvenva2b57d587b804004a753abadaa395864",
   "display_name": "Python 3.8.3 32-bit ('env': venv)"
  }
 },
 "nbformat": 4,
 "nbformat_minor": 2
}